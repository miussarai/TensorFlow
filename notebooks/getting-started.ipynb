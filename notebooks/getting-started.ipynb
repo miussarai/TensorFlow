{
  "cells": [
    {
      "cell_type": "markdown",
      "metadata": {
        "id": "view-in-github",
        "colab_type": "text"
      },
      "source": [
        "<a href=\"https://colab.research.google.com/github/miussarai/TensorFlow/blob/master/notebooks/getting-started.ipynb\" target=\"_parent\"><img src=\"https://colab.research.google.com/assets/colab-badge.svg\" alt=\"Open In Colab\"/></a>"
      ]
    },
    {
      "cell_type": "markdown",
      "id": "b1e72cec-1c9d-4fc0-af00-8d385d7450e6",
      "metadata": {
        "id": "b1e72cec-1c9d-4fc0-af00-8d385d7450e6"
      },
      "source": [
        "# Language Model Notebooks\n",
        "\n",
        "This notebook is an example of how to use the notebook interface (popularized by Jupyter Notebooks @ https://jupyter.org/ and Colaboratory Notebooks @ https://colab.google/) to interact with large language models via an API.\n",
        "\n",
        "The benefits of the notebook interface:\n",
        "\n",
        "* you don't need to rely on a third-party provider such as OpenAI or Anthropic\n",
        "* you are less vulnerable to electricity grid and climate risks associated with AI's supply side bottleneck: https://www.wsj.com/tech/ai/why-the-ai-industrys-thirst-for-new-data-centers-cant-be-satisfied-93c7eff5\n",
        "* you can save your work reliably\n",
        "* you can include metadata and additional context to models more easily and reliably\n",
        "\n",
        "For hardware accelerators such as TPUs and GPUs, a solution such as https://github.com/skypilot-org/skypilot/ serves as a cloud-agnostic backend.\n",
        "\n",
        "There are no cloud-agnostic frontends yet for this type of work that interoperate with GitHub. If you know one, please let me know here: [@thejaan](https://twitter.com/thejaan)! :pray:"
      ]
    },
    {
      "cell_type": "markdown",
      "id": "1fa3f37a-f2ff-458e-a7b8-e296cdb89aef",
      "metadata": {
        "id": "1fa3f37a-f2ff-458e-a7b8-e296cdb89aef"
      },
      "source": [
        "## 1. Load the extension"
      ]
    },
    {
      "cell_type": "code",
      "execution_count": null,
      "id": "18fbede1-a82a-4929-938e-25cf18d160f7",
      "metadata": {
        "id": "18fbede1-a82a-4929-938e-25cf18d160f7"
      },
      "outputs": [],
      "source": [
        "%load_ext jupyter_ai"
      ]
    },
    {
      "cell_type": "markdown",
      "id": "8a6e4802-8c20-4f69-9c15-2d76aa22e075",
      "metadata": {
        "id": "8a6e4802-8c20-4f69-9c15-2d76aa22e075"
      },
      "source": [
        "## 2. Load your API key from an environment variables\n",
        "\n",
        "Save a file called `.env` in the root of this repository, and in it add your API key for Claude from https://console.anthropic.com/settings/keys\n",
        "\n",
        "Note: You need to be careful **never** to save this file because it is easy to accidentally commit it to GitHub. If your credit card is linked to a closed-source API and someone (or a robot) gets access to your API key, you might need to cancel your card and try to get a refund if they end up using your API a ton.\n",
        "\n",
        "We use the dotenv library for this: https://pypi.org/project/python-dotenv/"
      ]
    },
    {
      "cell_type": "code",
      "execution_count": null,
      "id": "945fb6ae-e03c-4670-8210-cae493757ee6",
      "metadata": {
        "id": "945fb6ae-e03c-4670-8210-cae493757ee6"
      },
      "outputs": [],
      "source": [
        "%load_ext dotenv"
      ]
    },
    {
      "cell_type": "code",
      "execution_count": null,
      "id": "42d67f40-462b-43ba-a63f-fdd9e126a423",
      "metadata": {
        "id": "42d67f40-462b-43ba-a63f-fdd9e126a423"
      },
      "outputs": [],
      "source": [
        "%dotenv"
      ]
    },
    {
      "cell_type": "markdown",
      "id": "b93d0cb3-9844-4b3d-8778-360ec07b20ac",
      "metadata": {
        "id": "b93d0cb3-9844-4b3d-8778-360ec07b20ac"
      },
      "source": [
        "# 3. Test the models"
      ]
    },
    {
      "cell_type": "code",
      "execution_count": null,
      "id": "af16e864-8beb-4ea2-93d0-c74b6b595f85",
      "metadata": {
        "id": "af16e864-8beb-4ea2-93d0-c74b6b595f85",
        "outputId": "53af4303-61dd-4b2d-f461-1afbb5309358"
      },
      "outputs": [
        {
          "data": {
            "text/html": [
              "AI generated code inserted below &#11015;&#65039;"
            ],
            "text/plain": [
              "<IPython.core.display.HTML object>"
            ]
          },
          "execution_count": 8,
          "metadata": {
            "text/html": {
              "jupyter_ai": {
                "model_id": "claude-3-opus-20240229",
                "provider_id": "anthropic-chat"
              }
            }
          },
          "output_type": "execute_result"
        }
      ],
      "source": [
        "%%ai anthropic-chat:claude-3-opus-20240229 --format code\n",
        "Create and visualize an interactive plot of the world's population using python and the altair library."
      ]
    },
    {
      "cell_type": "code",
      "execution_count": null,
      "id": "a5320525-d508-4de0-abce-e4c776db0d54",
      "metadata": {
        "id": "a5320525-d508-4de0-abce-e4c776db0d54",
        "outputId": "ac08e8da-b4be-43c5-c21d-40ed446063fd"
      },
      "outputs": [
        {
          "data": {
            "text/html": [
              "\n",
              "<style>\n",
              "  #altair-viz-3c2dc2fe93674313bc7b8a770e6ca792.vega-embed {\n",
              "    width: 100%;\n",
              "    display: flex;\n",
              "  }\n",
              "\n",
              "  #altair-viz-3c2dc2fe93674313bc7b8a770e6ca792.vega-embed details,\n",
              "  #altair-viz-3c2dc2fe93674313bc7b8a770e6ca792.vega-embed details summary {\n",
              "    position: relative;\n",
              "  }\n",
              "</style>\n",
              "<div id=\"altair-viz-3c2dc2fe93674313bc7b8a770e6ca792\"></div>\n",
              "<script type=\"text/javascript\">\n",
              "  var VEGA_DEBUG = (typeof VEGA_DEBUG == \"undefined\") ? {} : VEGA_DEBUG;\n",
              "  (function(spec, embedOpt){\n",
              "    let outputDiv = document.currentScript.previousElementSibling;\n",
              "    if (outputDiv.id !== \"altair-viz-3c2dc2fe93674313bc7b8a770e6ca792\") {\n",
              "      outputDiv = document.getElementById(\"altair-viz-3c2dc2fe93674313bc7b8a770e6ca792\");\n",
              "    }\n",
              "    const paths = {\n",
              "      \"vega\": \"https://cdn.jsdelivr.net/npm/vega@5?noext\",\n",
              "      \"vega-lib\": \"https://cdn.jsdelivr.net/npm/vega-lib?noext\",\n",
              "      \"vega-lite\": \"https://cdn.jsdelivr.net/npm/vega-lite@5.17.0?noext\",\n",
              "      \"vega-embed\": \"https://cdn.jsdelivr.net/npm/vega-embed@6?noext\",\n",
              "    };\n",
              "\n",
              "    function maybeLoadScript(lib, version) {\n",
              "      var key = `${lib.replace(\"-\", \"\")}_version`;\n",
              "      return (VEGA_DEBUG[key] == version) ?\n",
              "        Promise.resolve(paths[lib]) :\n",
              "        new Promise(function(resolve, reject) {\n",
              "          var s = document.createElement('script');\n",
              "          document.getElementsByTagName(\"head\")[0].appendChild(s);\n",
              "          s.async = true;\n",
              "          s.onload = () => {\n",
              "            VEGA_DEBUG[key] = version;\n",
              "            return resolve(paths[lib]);\n",
              "          };\n",
              "          s.onerror = () => reject(`Error loading script: ${paths[lib]}`);\n",
              "          s.src = paths[lib];\n",
              "        });\n",
              "    }\n",
              "\n",
              "    function showError(err) {\n",
              "      outputDiv.innerHTML = `<div class=\"error\" style=\"color:red;\">${err}</div>`;\n",
              "      throw err;\n",
              "    }\n",
              "\n",
              "    function displayChart(vegaEmbed) {\n",
              "      vegaEmbed(outputDiv, spec, embedOpt)\n",
              "        .catch(err => showError(`Javascript Error: ${err.message}<br>This usually means there's a typo in your chart specification. See the javascript console for the full traceback.`));\n",
              "    }\n",
              "\n",
              "    if(typeof define === \"function\" && define.amd) {\n",
              "      requirejs.config({paths});\n",
              "      require([\"vega-embed\"], displayChart, err => showError(`Error loading script: ${err.message}`));\n",
              "    } else {\n",
              "      maybeLoadScript(\"vega\", \"5\")\n",
              "        .then(() => maybeLoadScript(\"vega-lite\", \"5.17.0\"))\n",
              "        .then(() => maybeLoadScript(\"vega-embed\", \"6\"))\n",
              "        .catch(showError)\n",
              "        .then(() => displayChart(vegaEmbed));\n",
              "    }\n",
              "  })({\"config\": {\"view\": {\"continuousWidth\": 300, \"continuousHeight\": 300}}, \"data\": {\"url\": \"https://cdn.jsdelivr.net/npm/vega-datasets@v1.29.0/data/population.json\"}, \"mark\": {\"type\": \"line\"}, \"encoding\": {\"color\": {\"field\": \"age\", \"type\": \"nominal\"}, \"tooltip\": [{\"field\": \"year\", \"type\": \"ordinal\"}, {\"aggregate\": \"sum\", \"field\": \"people\", \"type\": \"quantitative\"}, {\"field\": \"age\", \"type\": \"nominal\"}], \"x\": {\"field\": \"year\", \"type\": \"ordinal\"}, \"y\": {\"aggregate\": \"sum\", \"field\": \"people\", \"type\": \"quantitative\"}}, \"height\": 400, \"params\": [{\"name\": \"param_2\", \"select\": {\"type\": \"interval\", \"encodings\": [\"x\", \"y\"]}, \"bind\": \"scales\"}], \"title\": \"World Population by Age Group\", \"transform\": [{\"filter\": \"(datum.year >= 1850)\"}], \"width\": 600, \"$schema\": \"https://vega.github.io/schema/vega-lite/v5.17.0.json\"}, {\"mode\": \"vega-lite\"});\n",
              "</script>"
            ],
            "text/plain": [
              "alt.Chart(...)"
            ]
          },
          "execution_count": 10,
          "metadata": {},
          "output_type": "execute_result"
        }
      ],
      "source": [
        "import altair as alt\n",
        "from vega_datasets import data\n",
        "\n",
        "# Load the population data\n",
        "pop_data = data.population.url\n",
        "\n",
        "# Create the interactive plot\n",
        "plot = alt.Chart(pop_data).mark_line().encode(\n",
        "    x='year:O',\n",
        "    y='sum(people):Q',\n",
        "    color='age:N',\n",
        "    tooltip=['year:O', 'sum(people):Q', 'age:N']\n",
        ").properties(\n",
        "    width=600,\n",
        "    height=400,\n",
        "    title='World Population by Age Group'\n",
        ").transform_filter(\n",
        "    alt.datum.year >= 1850\n",
        ").interactive()\n",
        "\n",
        "# Display the plot\n",
        "plot"
      ]
    }
  ],
  "metadata": {
    "kernelspec": {
      "display_name": "Python 3 (ipykernel)",
      "language": "python",
      "name": "python3"
    },
    "language_info": {
      "codemirror_mode": {
        "name": "ipython",
        "version": 3
      },
      "file_extension": ".py",
      "mimetype": "text/x-python",
      "name": "python",
      "nbconvert_exporter": "python",
      "pygments_lexer": "ipython3",
      "version": "3.12.3"
    },
    "colab": {
      "provenance": [],
      "include_colab_link": true
    }
  },
  "nbformat": 4,
  "nbformat_minor": 5
}